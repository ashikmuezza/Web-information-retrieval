{
  "nbformat": 4,
  "nbformat_minor": 0,
  "metadata": {
    "colab": {
      "provenance": []
    },
    "kernelspec": {
      "name": "python3",
      "display_name": "Python 3"
    },
    "language_info": {
      "name": "python"
    }
  },
  "cells": [
    {
      "cell_type": "code",
      "source": [
        "\n",
        "def read_data(d1,d2):\n",
        "  docs = []\n",
        "  for d in [d1,d2]:\n",
        "      words = []\n",
        "      for i in d.split():\n",
        "        words.append(i.lower())\n",
        "      docs.append(words)\n",
        "  return docs   \n",
        "\n",
        "\n",
        "def two_shingle(docs):\n",
        "  Bigrams = {}\n",
        "  for doc in docs:\n",
        "\n",
        "      for i in range(len(doc)-1):    \n",
        "        if ((doc[i], doc[i + 1])) in Bigrams:\n",
        "          Bigrams[(doc[i], doc[i + 1])] += 1\n",
        "        else:\n",
        "          Bigrams[(doc[i], doc[i + 1])] = 1\n",
        "\n",
        "  return Bigrams \n",
        "\n",
        "\n",
        "def three_shingle(docs):\n",
        "  Trigrams = {}\n",
        "  for doc in docs:\n",
        "      for i in range(len(doc)-2): \n",
        "        if ((doc[i], doc[i + 1], doc[i + 2])) in Trigrams:\n",
        "          Trigrams[(doc[i], doc[i + 1],  doc[i + 2])] += 1\n",
        "        else:\n",
        "          Trigrams[(doc[i], doc[i + 1],  doc[i + 2])] = 1\n",
        "\n",
        "  return Trigrams \n"
      ],
      "metadata": {
        "id": "GQs83Zgz7x20"
      },
      "execution_count": null,
      "outputs": []
    },
    {
      "cell_type": "code",
      "source": [
        "l'A1 = 'data is the new oil of digital economy'\n",
        "A2 = 'data is the new oi\n",
        "B1 = 'there is an art to getting your way and throwing bananas on the street is not it'\n",
        "B2 = 'it is not often you find soggy bananas on the street'"
      ],
      "metadata": {
        "id": "yoPBBwJkFRzu"
      },
      "execution_count": null,
      "outputs": []
    },
    {
      "cell_type": "code",
      "source": [
        "data = read_data(A1,A2) \n",
        "print('docs - ', data)\n",
        "\n",
        "bigrams = two_shingle(data)\n",
        "\n",
        "print('bigrams - ', bigrams)\n",
        "\n",
        "jaccard_coeff = len([k for k,v in bigrams.items() if v >= 2 ]) / len(bigrams)\n",
        "\n",
        "print('jaccard_coeff - ',jaccard_coeff)\n"
      ],
      "metadata": {
        "colab": {
          "base_uri": "https://localhost:8080/"
        },
        "id": "A3q4I8m4FudG",
        "outputId": "65e6e0f9-ae55-473a-c089-382b4ef9e342"
      },
      "execution_count": null,
      "outputs": [
        {
          "output_type": "stream",
          "name": "stdout",
          "text": [
            "docs -  [['data', 'is', 'the', 'new', 'oil', 'of', 'digital', 'economy'], ['data', 'is', 'the', 'new', 'oil']]\n",
            "bigrams -  {('data', 'is'): 2, ('is', 'the'): 2, ('the', 'new'): 2, ('new', 'oil'): 2, ('oil', 'of'): 1, ('of', 'digital'): 1, ('digital', 'economy'): 1}\n",
            "jaccard_coeff -  0.5714285714285714\n"
          ]
        }
      ]
    },
    {
      "cell_type": "code",
      "source": [
        "data = read_data(B1,B2) \n",
        "print('words - ', data)\n",
        "bigrams = two_shingle(data)\n",
        "print('bigrams - ', bigrams)\n",
        "print(len([k for k,v in bigrams.items() if v >= 2 ]))\n",
        "print(len(bigrams))\n",
        "jaccard_coeff = len([k for k,v in bigrams.items() if v >= 2 ]) / len(bigrams)\n",
        "print('jaccard_coeff - ',jaccard_coeff)\n"
      ],
      "metadata": {
        "colab": {
          "base_uri": "https://localhost:8080/"
        },
        "id": "WYziIUQuF-LK",
        "outputId": "b61f0d3b-0693-4785-fab3-3dfb98a453ed"
      },
      "execution_count": null,
      "outputs": [
        {
          "output_type": "stream",
          "name": "stdout",
          "text": [
            "words -  [['there', 'is', 'an', 'art', 'to', 'getting', 'your', 'way', 'and', 'throwing', 'bananas', 'on', 'the', 'street', 'is', 'not', 'it'], ['it', 'is', 'not', 'often', 'you', 'find', 'soggy', 'bananas', 'on', 'the', 'street']]\n",
            "bigrams -  {('there', 'is'): 1, ('is', 'an'): 1, ('an', 'art'): 1, ('art', 'to'): 1, ('to', 'getting'): 1, ('getting', 'your'): 1, ('your', 'way'): 1, ('way', 'and'): 1, ('and', 'throwing'): 1, ('throwing', 'bananas'): 1, ('bananas', 'on'): 2, ('on', 'the'): 2, ('the', 'street'): 2, ('street', 'is'): 1, ('is', 'not'): 2, ('not', 'it'): 1, ('it', 'is'): 1, ('not', 'often'): 1, ('often', 'you'): 1, ('you', 'find'): 1, ('find', 'soggy'): 1, ('soggy', 'bananas'): 1}\n",
            "4\n",
            "22\n",
            "jaccard_coeff -  0.18181818181818182\n"
          ]
        }
      ]
    },
    {
      "cell_type": "code",
      "source": [
        "D1 = 'Jack London traveled to Oakland'\n",
        "D2 = 'Jack London traveled to the city of Oakland'\n",
        "D3 = 'Jack traveled from Oakland to London'\n",
        "\n",
        "\n",
        "data = read_data(D1,D2) \n",
        "print('words - ', data)\n",
        "bigrams = two_shingle(data)\n",
        "print('bigrams - ', bigrams)\n",
        "jaccard_coeff = len([k for k,v in  bigrams.items() if v >= 2 ]) / len(bigrams)\n",
        "print('jaccard_coeff - ',jaccard_coeff)\n"
      ],
      "metadata": {
        "colab": {
          "base_uri": "https://localhost:8080/"
        },
        "id": "ZasGF93rE7oY",
        "outputId": "9bfa60e7-4189-4bb1-d968-dfeb663c5f42"
      },
      "execution_count": null,
      "outputs": [
        {
          "output_type": "stream",
          "name": "stdout",
          "text": [
            "words -  [['jack', 'london', 'traveled', 'to', 'oakland'], ['jack', 'london', 'traveled', 'to', 'the', 'city', 'of', 'oakland']]\n",
            "bigrams -  {('jack', 'london'): 2, ('london', 'traveled'): 2, ('traveled', 'to'): 2, ('to', 'oakland'): 1, ('to', 'the'): 1, ('the', 'city'): 1, ('city', 'of'): 1, ('of', 'oakland'): 1}\n",
            "jaccard_coeff -  0.375\n"
          ]
        }
      ]
    },
    {
      "cell_type": "code",
      "source": [
        "data = read_data(A1,A2) \n",
        "print('words - ', data)\n",
        "trigrams = three_shingle(data)\n",
        "print('trigrams - ', trigrams)\n",
        "jaccard_coeff = len([k for k,v in trigrams.items() if v >= 2 ]) / len(trigrams)\n",
        "print('jaccard_coeff - ',jaccard_coeff)\n",
        "#0.5"
      ],
      "metadata": {
        "colab": {
          "base_uri": "https://localhost:8080/"
        },
        "id": "qX0DSNLaH6kS",
        "outputId": "1da3f0d0-8799-40dd-e243-196506044602"
      },
      "execution_count": null,
      "outputs": [
        {
          "output_type": "stream",
          "name": "stdout",
          "text": [
            "words -  [['data', 'is', 'the', 'new', 'oil', 'of', 'digital', 'economy'], ['data', 'is', 'the', 'new', 'oil']]\n",
            "trigrams -  {('data', 'is', 'the'): 2, ('is', 'the', 'new'): 2, ('the', 'new', 'oil'): 2, ('new', 'oil', 'of'): 1, ('oil', 'of', 'digital'): 1, ('of', 'digital', 'economy'): 1}\n",
            "jaccard_coeff -  0.5\n"
          ]
        }
      ]
    },
    {
      "cell_type": "code",
      "source": [
        "data = read_data(B1,B2) \n",
        "print('words - ', data)\n",
        "trigrams = three_shingle(data)\n",
        "print('trigrams - ', trigrams)\n",
        "jaccard_coeff = len([k for k,v in trigrams.items() if v >= 2 ]) / len(trigrams)\n",
        "print('jaccard_coeff - ',jaccard_coeff)\n",
        "#0.09"
      ],
      "metadata": {
        "colab": {
          "base_uri": "https://localhost:8080/"
        },
        "id": "xggdlsqSJ0BC",
        "outputId": "035c2244-90b7-4e43-b5cc-bd31de7a0663"
      },
      "execution_count": null,
      "outputs": [
        {
          "output_type": "stream",
          "name": "stdout",
          "text": [
            "words -  [['there', 'is', 'an', 'art', 'to', 'getting', 'your', 'way', 'and', 'throwing', 'bananas', 'on', 'the', 'street', 'is', 'not', 'it'], ['it', 'is', 'not', 'often', 'you', 'find', 'soggy', 'bananas', 'on', 'the', 'street']]\n",
            "trigrams -  {('there', 'is', 'an'): 1, ('is', 'an', 'art'): 1, ('an', 'art', 'to'): 1, ('art', 'to', 'getting'): 1, ('to', 'getting', 'your'): 1, ('getting', 'your', 'way'): 1, ('your', 'way', 'and'): 1, ('way', 'and', 'throwing'): 1, ('and', 'throwing', 'bananas'): 1, ('throwing', 'bananas', 'on'): 1, ('bananas', 'on', 'the'): 2, ('on', 'the', 'street'): 2, ('the', 'street', 'is'): 1, ('street', 'is', 'not'): 1, ('is', 'not', 'it'): 1, ('it', 'is', 'not'): 1, ('is', 'not', 'often'): 1, ('not', 'often', 'you'): 1, ('often', 'you', 'find'): 1, ('you', 'find', 'soggy'): 1, ('find', 'soggy', 'bananas'): 1, ('soggy', 'bananas', 'on'): 1}\n",
            "jaccard_coeff -  0.09090909090909091\n"
          ]
        }
      ]
    }
  ]
}