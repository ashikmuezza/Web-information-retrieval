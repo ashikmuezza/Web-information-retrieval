{
  "nbformat": 4,
  "nbformat_minor": 0,
  "metadata": {
    "colab": {
      "provenance": []
    },
    "kernelspec": {
      "name": "python3",
      "display_name": "Python 3"
    },
    "language_info": {
      "name": "python"
    }
  },
  "cells": [
    {
      "cell_type": "code",
      "execution_count": 2,
      "metadata": {
        "id": "Llt-BFxL4S5X"
      },
      "outputs": [],
      "source": [
        "D1 = \"vaccine research corona virus research\"\n",
        "D2 = \"research research cancer vaccine vaccine\"\n",
        "D3 = \"virus virus corona vaccine lab\"\n",
        "D4 = \"cancer lab research lab\""
      ]
    },
    {
      "cell_type": "code",
      "source": [
        "corpus = [D1,D2,D3,D4]\n",
        "corpus"
      ],
      "metadata": {
        "colab": {
          "base_uri": "https://localhost:8080/"
        },
        "id": "QXSaFcja4Xf0",
        "outputId": "a3330ec8-8503-4b07-90e1-ab7421761015"
      },
      "execution_count": 3,
      "outputs": [
        {
          "output_type": "execute_result",
          "data": {
            "text/plain": [
              "['vaccine research corona virus research',\n",
              " 'research research cancer vaccine vaccine',\n",
              " 'virus virus corona vaccine lab',\n",
              " 'cancer lab research lab']"
            ]
          },
          "metadata": {},
          "execution_count": 3
        }
      ]
    },
    {
      "cell_type": "code",
      "source": [
        "wordbags = set(D1.split() + D2.split() + D3.split() + D4.split() )\n",
        "wordbags"
      ],
      "metadata": {
        "colab": {
          "base_uri": "https://localhost:8080/"
        },
        "id": "DQfwWFgo4Zpp",
        "outputId": "b4d4fe02-40d8-44c1-b92b-4b45ca233fb1"
      },
      "execution_count": 4,
      "outputs": [
        {
          "output_type": "execute_result",
          "data": {
            "text/plain": [
              "{'cancer', 'corona', 'lab', 'research', 'vaccine', 'virus'}"
            ]
          },
          "metadata": {},
          "execution_count": 4
        }
      ]
    },
    {
      "cell_type": "code",
      "source": [
        "total_words = len(D1.split() + D2.split() + D3.split() + D4.split())\n",
        "total_words"
      ],
      "metadata": {
        "colab": {
          "base_uri": "https://localhost:8080/"
        },
        "id": "Tuy9MP3p4bG6",
        "outputId": "0689494f-b466-49d0-f6c5-d536850a1fea"
      },
      "execution_count": 5,
      "outputs": [
        {
          "output_type": "execute_result",
          "data": {
            "text/plain": [
              "19"
            ]
          },
          "metadata": {},
          "execution_count": 5
        }
      ]
    },
    {
      "cell_type": "code",
      "source": [
        "import pandas as pd\n",
        "\n",
        "P_Mc_t = {}\n",
        "\n",
        "for wb in wordbags:\n",
        "  for d in corpus:\n",
        "    cnt = d.count(wb)\n",
        "    \n",
        "    if wb in P_Mc_t:\n",
        "      P_Mc_t[wb] += cnt\n",
        "    else:\n",
        "      P_Mc_t[wb] = cnt\n",
        "  \n",
        "P_Mc_t "
      ],
      "metadata": {
        "colab": {
          "base_uri": "https://localhost:8080/"
        },
        "id": "hwbG82cL4cbB",
        "outputId": "76f0995b-dcbe-4161-b655-321e06e333a2"
      },
      "execution_count": 6,
      "outputs": [
        {
          "output_type": "execute_result",
          "data": {
            "text/plain": [
              "{'corona': 2, 'cancer': 2, 'lab': 3, 'virus': 3, 'research': 5, 'vaccine': 4}"
            ]
          },
          "metadata": {},
          "execution_count": 6
        }
      ]
    },
    {
      "cell_type": "code",
      "source": [
        "P_Mc_t = pd.DataFrame(P_Mc_t,index=['word_count']).transpose()\n",
        "P_Mc_t['P_Mc(t)'] = P_Mc_t['word_count'] / total_words\n",
        "P_Mc_t"
      ],
      "metadata": {
        "colab": {
          "base_uri": "https://localhost:8080/",
          "height": 238
        },
        "id": "eBWLMPZV4cjZ",
        "outputId": "900b01b7-ceb4-4ed5-fa66-1b8a9a29a501"
      },
      "execution_count": 7,
      "outputs": [
        {
          "output_type": "execute_result",
          "data": {
            "text/plain": [
              "          word_count   P_Mc(t)\n",
              "corona             2  0.105263\n",
              "cancer             2  0.105263\n",
              "lab                3  0.157895\n",
              "virus              3  0.157895\n",
              "research           5  0.263158\n",
              "vaccine            4  0.210526"
            ],
            "text/html": [
              "\n",
              "  <div id=\"df-9adb30bd-74da-47e7-89d4-dbf717139e94\">\n",
              "    <div class=\"colab-df-container\">\n",
              "      <div>\n",
              "<style scoped>\n",
              "    .dataframe tbody tr th:only-of-type {\n",
              "        vertical-align: middle;\n",
              "    }\n",
              "\n",
              "    .dataframe tbody tr th {\n",
              "        vertical-align: top;\n",
              "    }\n",
              "\n",
              "    .dataframe thead th {\n",
              "        text-align: right;\n",
              "    }\n",
              "</style>\n",
              "<table border=\"1\" class=\"dataframe\">\n",
              "  <thead>\n",
              "    <tr style=\"text-align: right;\">\n",
              "      <th></th>\n",
              "      <th>word_count</th>\n",
              "      <th>P_Mc(t)</th>\n",
              "    </tr>\n",
              "  </thead>\n",
              "  <tbody>\n",
              "    <tr>\n",
              "      <th>corona</th>\n",
              "      <td>2</td>\n",
              "      <td>0.105263</td>\n",
              "    </tr>\n",
              "    <tr>\n",
              "      <th>cancer</th>\n",
              "      <td>2</td>\n",
              "      <td>0.105263</td>\n",
              "    </tr>\n",
              "    <tr>\n",
              "      <th>lab</th>\n",
              "      <td>3</td>\n",
              "      <td>0.157895</td>\n",
              "    </tr>\n",
              "    <tr>\n",
              "      <th>virus</th>\n",
              "      <td>3</td>\n",
              "      <td>0.157895</td>\n",
              "    </tr>\n",
              "    <tr>\n",
              "      <th>research</th>\n",
              "      <td>5</td>\n",
              "      <td>0.263158</td>\n",
              "    </tr>\n",
              "    <tr>\n",
              "      <th>vaccine</th>\n",
              "      <td>4</td>\n",
              "      <td>0.210526</td>\n",
              "    </tr>\n",
              "  </tbody>\n",
              "</table>\n",
              "</div>\n",
              "      <button class=\"colab-df-convert\" onclick=\"convertToInteractive('df-9adb30bd-74da-47e7-89d4-dbf717139e94')\"\n",
              "              title=\"Convert this dataframe to an interactive table.\"\n",
              "              style=\"display:none;\">\n",
              "        \n",
              "  <svg xmlns=\"http://www.w3.org/2000/svg\" height=\"24px\"viewBox=\"0 0 24 24\"\n",
              "       width=\"24px\">\n",
              "    <path d=\"M0 0h24v24H0V0z\" fill=\"none\"/>\n",
              "    <path d=\"M18.56 5.44l.94 2.06.94-2.06 2.06-.94-2.06-.94-.94-2.06-.94 2.06-2.06.94zm-11 1L8.5 8.5l.94-2.06 2.06-.94-2.06-.94L8.5 2.5l-.94 2.06-2.06.94zm10 10l.94 2.06.94-2.06 2.06-.94-2.06-.94-.94-2.06-.94 2.06-2.06.94z\"/><path d=\"M17.41 7.96l-1.37-1.37c-.4-.4-.92-.59-1.43-.59-.52 0-1.04.2-1.43.59L10.3 9.45l-7.72 7.72c-.78.78-.78 2.05 0 2.83L4 21.41c.39.39.9.59 1.41.59.51 0 1.02-.2 1.41-.59l7.78-7.78 2.81-2.81c.8-.78.8-2.07 0-2.86zM5.41 20L4 18.59l7.72-7.72 1.47 1.35L5.41 20z\"/>\n",
              "  </svg>\n",
              "      </button>\n",
              "      \n",
              "  <style>\n",
              "    .colab-df-container {\n",
              "      display:flex;\n",
              "      flex-wrap:wrap;\n",
              "      gap: 12px;\n",
              "    }\n",
              "\n",
              "    .colab-df-convert {\n",
              "      background-color: #E8F0FE;\n",
              "      border: none;\n",
              "      border-radius: 50%;\n",
              "      cursor: pointer;\n",
              "      display: none;\n",
              "      fill: #1967D2;\n",
              "      height: 32px;\n",
              "      padding: 0 0 0 0;\n",
              "      width: 32px;\n",
              "    }\n",
              "\n",
              "    .colab-df-convert:hover {\n",
              "      background-color: #E2EBFA;\n",
              "      box-shadow: 0px 1px 2px rgba(60, 64, 67, 0.3), 0px 1px 3px 1px rgba(60, 64, 67, 0.15);\n",
              "      fill: #174EA6;\n",
              "    }\n",
              "\n",
              "    [theme=dark] .colab-df-convert {\n",
              "      background-color: #3B4455;\n",
              "      fill: #D2E3FC;\n",
              "    }\n",
              "\n",
              "    [theme=dark] .colab-df-convert:hover {\n",
              "      background-color: #434B5C;\n",
              "      box-shadow: 0px 1px 3px 1px rgba(0, 0, 0, 0.15);\n",
              "      filter: drop-shadow(0px 1px 2px rgba(0, 0, 0, 0.3));\n",
              "      fill: #FFFFFF;\n",
              "    }\n",
              "  </style>\n",
              "\n",
              "      <script>\n",
              "        const buttonEl =\n",
              "          document.querySelector('#df-9adb30bd-74da-47e7-89d4-dbf717139e94 button.colab-df-convert');\n",
              "        buttonEl.style.display =\n",
              "          google.colab.kernel.accessAllowed ? 'block' : 'none';\n",
              "\n",
              "        async function convertToInteractive(key) {\n",
              "          const element = document.querySelector('#df-9adb30bd-74da-47e7-89d4-dbf717139e94');\n",
              "          const dataTable =\n",
              "            await google.colab.kernel.invokeFunction('convertToInteractive',\n",
              "                                                     [key], {});\n",
              "          if (!dataTable) return;\n",
              "\n",
              "          const docLinkHtml = 'Like what you see? Visit the ' +\n",
              "            '<a target=\"_blank\" href=https://colab.research.google.com/notebooks/data_table.ipynb>data table notebook</a>'\n",
              "            + ' to learn more about interactive tables.';\n",
              "          element.innerHTML = '';\n",
              "          dataTable['output_type'] = 'display_data';\n",
              "          await google.colab.output.renderOutput(dataTable, element);\n",
              "          const docLink = document.createElement('div');\n",
              "          docLink.innerHTML = docLinkHtml;\n",
              "          element.appendChild(docLink);\n",
              "        }\n",
              "      </script>\n",
              "    </div>\n",
              "  </div>\n",
              "  "
            ]
          },
          "metadata": {},
          "execution_count": 7
        }
      ]
    },
    {
      "cell_type": "code",
      "source": [
        "P_Mc_t['prob_wc_c'] = P_Mc_t['word_count'] / total_words"
      ],
      "metadata": {
        "id": "zYZ0pIgb4f0B"
      },
      "execution_count": 8,
      "outputs": []
    },
    {
      "cell_type": "code",
      "source": [
        "PMd_t = {}\n",
        "\n",
        "for wb in wordbags:\n",
        "    PMd = []\n",
        "    for d in corpus:\n",
        "      cnt = d.count(wb)\n",
        "      PMd.append(cnt/len(d.split()))\n",
        "    \n",
        "    PMd_t[wb] = PMd   \n",
        "  \n",
        "PMd_t "
      ],
      "metadata": {
        "colab": {
          "base_uri": "https://localhost:8080/"
        },
        "id": "1XwvTejg4lty",
        "outputId": "94c9a1b1-e9f3-4339-e462-310863096b4f"
      },
      "execution_count": 9,
      "outputs": [
        {
          "output_type": "execute_result",
          "data": {
            "text/plain": [
              "{'corona': [0.2, 0.0, 0.2, 0.0],\n",
              " 'cancer': [0.0, 0.2, 0.0, 0.25],\n",
              " 'lab': [0.0, 0.0, 0.2, 0.5],\n",
              " 'virus': [0.2, 0.0, 0.4, 0.0],\n",
              " 'research': [0.4, 0.4, 0.0, 0.25],\n",
              " 'vaccine': [0.2, 0.4, 0.2, 0.0]}"
            ]
          },
          "metadata": {},
          "execution_count": 9
        }
      ]
    },
    {
      "cell_type": "code",
      "source": [
        "df = pd.DataFrame(PMd_t,index=['d1','d2','d3','d4']).transpose()\n",
        "df.sort_index()"
      ],
      "metadata": {
        "colab": {
          "base_uri": "https://localhost:8080/",
          "height": 238
        },
        "id": "_EGUk9Cw4nXq",
        "outputId": "42bee64c-1abe-45f8-e75c-386bd5ce4074"
      },
      "execution_count": 10,
      "outputs": [
        {
          "output_type": "execute_result",
          "data": {
            "text/plain": [
              "           d1   d2   d3    d4\n",
              "cancer    0.0  0.2  0.0  0.25\n",
              "corona    0.2  0.0  0.2  0.00\n",
              "lab       0.0  0.0  0.2  0.50\n",
              "research  0.4  0.4  0.0  0.25\n",
              "vaccine   0.2  0.4  0.2  0.00\n",
              "virus     0.2  0.0  0.4  0.00"
            ],
            "text/html": [
              "\n",
              "  <div id=\"df-1d9e4e09-32ba-4c11-8c55-d65859664e7c\">\n",
              "    <div class=\"colab-df-container\">\n",
              "      <div>\n",
              "<style scoped>\n",
              "    .dataframe tbody tr th:only-of-type {\n",
              "        vertical-align: middle;\n",
              "    }\n",
              "\n",
              "    .dataframe tbody tr th {\n",
              "        vertical-align: top;\n",
              "    }\n",
              "\n",
              "    .dataframe thead th {\n",
              "        text-align: right;\n",
              "    }\n",
              "</style>\n",
              "<table border=\"1\" class=\"dataframe\">\n",
              "  <thead>\n",
              "    <tr style=\"text-align: right;\">\n",
              "      <th></th>\n",
              "      <th>d1</th>\n",
              "      <th>d2</th>\n",
              "      <th>d3</th>\n",
              "      <th>d4</th>\n",
              "    </tr>\n",
              "  </thead>\n",
              "  <tbody>\n",
              "    <tr>\n",
              "      <th>cancer</th>\n",
              "      <td>0.0</td>\n",
              "      <td>0.2</td>\n",
              "      <td>0.0</td>\n",
              "      <td>0.25</td>\n",
              "    </tr>\n",
              "    <tr>\n",
              "      <th>corona</th>\n",
              "      <td>0.2</td>\n",
              "      <td>0.0</td>\n",
              "      <td>0.2</td>\n",
              "      <td>0.00</td>\n",
              "    </tr>\n",
              "    <tr>\n",
              "      <th>lab</th>\n",
              "      <td>0.0</td>\n",
              "      <td>0.0</td>\n",
              "      <td>0.2</td>\n",
              "      <td>0.50</td>\n",
              "    </tr>\n",
              "    <tr>\n",
              "      <th>research</th>\n",
              "      <td>0.4</td>\n",
              "      <td>0.4</td>\n",
              "      <td>0.0</td>\n",
              "      <td>0.25</td>\n",
              "    </tr>\n",
              "    <tr>\n",
              "      <th>vaccine</th>\n",
              "      <td>0.2</td>\n",
              "      <td>0.4</td>\n",
              "      <td>0.2</td>\n",
              "      <td>0.00</td>\n",
              "    </tr>\n",
              "    <tr>\n",
              "      <th>virus</th>\n",
              "      <td>0.2</td>\n",
              "      <td>0.0</td>\n",
              "      <td>0.4</td>\n",
              "      <td>0.00</td>\n",
              "    </tr>\n",
              "  </tbody>\n",
              "</table>\n",
              "</div>\n",
              "      <button class=\"colab-df-convert\" onclick=\"convertToInteractive('df-1d9e4e09-32ba-4c11-8c55-d65859664e7c')\"\n",
              "              title=\"Convert this dataframe to an interactive table.\"\n",
              "              style=\"display:none;\">\n",
              "        \n",
              "  <svg xmlns=\"http://www.w3.org/2000/svg\" height=\"24px\"viewBox=\"0 0 24 24\"\n",
              "       width=\"24px\">\n",
              "    <path d=\"M0 0h24v24H0V0z\" fill=\"none\"/>\n",
              "    <path d=\"M18.56 5.44l.94 2.06.94-2.06 2.06-.94-2.06-.94-.94-2.06-.94 2.06-2.06.94zm-11 1L8.5 8.5l.94-2.06 2.06-.94-2.06-.94L8.5 2.5l-.94 2.06-2.06.94zm10 10l.94 2.06.94-2.06 2.06-.94-2.06-.94-.94-2.06-.94 2.06-2.06.94z\"/><path d=\"M17.41 7.96l-1.37-1.37c-.4-.4-.92-.59-1.43-.59-.52 0-1.04.2-1.43.59L10.3 9.45l-7.72 7.72c-.78.78-.78 2.05 0 2.83L4 21.41c.39.39.9.59 1.41.59.51 0 1.02-.2 1.41-.59l7.78-7.78 2.81-2.81c.8-.78.8-2.07 0-2.86zM5.41 20L4 18.59l7.72-7.72 1.47 1.35L5.41 20z\"/>\n",
              "  </svg>\n",
              "      </button>\n",
              "      \n",
              "  <style>\n",
              "    .colab-df-container {\n",
              "      display:flex;\n",
              "      flex-wrap:wrap;\n",
              "      gap: 12px;\n",
              "    }\n",
              "\n",
              "    .colab-df-convert {\n",
              "      background-color: #E8F0FE;\n",
              "      border: none;\n",
              "      border-radius: 50%;\n",
              "      cursor: pointer;\n",
              "      display: none;\n",
              "      fill: #1967D2;\n",
              "      height: 32px;\n",
              "      padding: 0 0 0 0;\n",
              "      width: 32px;\n",
              "    }\n",
              "\n",
              "    .colab-df-convert:hover {\n",
              "      background-color: #E2EBFA;\n",
              "      box-shadow: 0px 1px 2px rgba(60, 64, 67, 0.3), 0px 1px 3px 1px rgba(60, 64, 67, 0.15);\n",
              "      fill: #174EA6;\n",
              "    }\n",
              "\n",
              "    [theme=dark] .colab-df-convert {\n",
              "      background-color: #3B4455;\n",
              "      fill: #D2E3FC;\n",
              "    }\n",
              "\n",
              "    [theme=dark] .colab-df-convert:hover {\n",
              "      background-color: #434B5C;\n",
              "      box-shadow: 0px 1px 3px 1px rgba(0, 0, 0, 0.15);\n",
              "      filter: drop-shadow(0px 1px 2px rgba(0, 0, 0, 0.3));\n",
              "      fill: #FFFFFF;\n",
              "    }\n",
              "  </style>\n",
              "\n",
              "      <script>\n",
              "        const buttonEl =\n",
              "          document.querySelector('#df-1d9e4e09-32ba-4c11-8c55-d65859664e7c button.colab-df-convert');\n",
              "        buttonEl.style.display =\n",
              "          google.colab.kernel.accessAllowed ? 'block' : 'none';\n",
              "\n",
              "        async function convertToInteractive(key) {\n",
              "          const element = document.querySelector('#df-1d9e4e09-32ba-4c11-8c55-d65859664e7c');\n",
              "          const dataTable =\n",
              "            await google.colab.kernel.invokeFunction('convertToInteractive',\n",
              "                                                     [key], {});\n",
              "          if (!dataTable) return;\n",
              "\n",
              "          const docLinkHtml = 'Like what you see? Visit the ' +\n",
              "            '<a target=\"_blank\" href=https://colab.research.google.com/notebooks/data_table.ipynb>data table notebook</a>'\n",
              "            + ' to learn more about interactive tables.';\n",
              "          element.innerHTML = '';\n",
              "          dataTable['output_type'] = 'display_data';\n",
              "          await google.colab.output.renderOutput(dataTable, element);\n",
              "          const docLink = document.createElement('div');\n",
              "          docLink.innerHTML = docLinkHtml;\n",
              "          element.appendChild(docLink);\n",
              "        }\n",
              "      </script>\n",
              "    </div>\n",
              "  </div>\n",
              "  "
            ]
          },
          "metadata": {},
          "execution_count": 10
        }
      ]
    },
    {
      "cell_type": "code",
      "source": [
        "query = \"vaccine vaccine research cancer\"\n",
        "\n",
        "data={}\n",
        "\n",
        "for i in df.columns:\n",
        "  data[i] = 1\n",
        "  for w in query.split():\n",
        "    data[i] = df[i][w] * data[i]\n",
        "\n",
        "data"
      ],
      "metadata": {
        "colab": {
          "base_uri": "https://localhost:8080/"
        },
        "id": "4ReI18J_4pSz",
        "outputId": "2679e896-69cf-40f5-e47a-cc2174617251"
      },
      "execution_count": 11,
      "outputs": [
        {
          "output_type": "execute_result",
          "data": {
            "text/plain": [
              "{'d1': 0.0, 'd2': 0.012800000000000004, 'd3': 0.0, 'd4': 0.0}"
            ]
          },
          "metadata": {},
          "execution_count": 11
        }
      ]
    },
    {
      "cell_type": "code",
      "source": [
        "query = \"vaccine vaccine research cancer\"\n",
        "lamda = 0.5\n",
        "\n",
        "data={}\n",
        "\n",
        "for i in df.columns:\n",
        "  data[i] = 1\n",
        "  for w in query.split():\n",
        "\n",
        "    data[i] = ((lamda * df[i][w]) + ((1-lamda) * P_Mc_t['P_Mc(t)'][w])) * data[i]\n",
        "\n",
        "data "
      ],
      "metadata": {
        "colab": {
          "base_uri": "https://localhost:8080/"
        },
        "id": "SiQTkGvY4qmS",
        "outputId": "3bf61a80-e4f9-4de4-9e4e-0f684754b339"
      },
      "execution_count": 12,
      "outputs": [
        {
          "output_type": "execute_result",
          "data": {
            "text/plain": [
              "{'d1': 0.0007352844131030303,\n",
              " 'd2': 0.004716068784002579,\n",
              " 'd3': 0.000291779529009139,\n",
              " 'd4': 0.0005050030309773557}"
            ]
          },
          "metadata": {},
          "execution_count": 12
        }
      ]
    },
    {
      "cell_type": "code",
      "source": [
        "import operator\n",
        "sorted(data.items(), key=operator.itemgetter(1),reverse=True)"
      ],
      "metadata": {
        "colab": {
          "base_uri": "https://localhost:8080/"
        },
        "id": "FREqmsg54sTZ",
        "outputId": "f911ea51-c524-489a-8cda-f86c43dab617"
      },
      "execution_count": 13,
      "outputs": [
        {
          "output_type": "execute_result",
          "data": {
            "text/plain": [
              "[('d2', 0.004716068784002579),\n",
              " ('d1', 0.0007352844131030303),\n",
              " ('d4', 0.0005050030309773557),\n",
              " ('d3', 0.000291779529009139)]"
            ]
          },
          "metadata": {},
          "execution_count": 13
        }
      ]
    },
    {
      "cell_type": "code",
      "source": [
        "query = \"vaccine research\"\n",
        "lamda = 0.5\n",
        "\n",
        "data={}\n",
        "\n",
        "for i in df.columns:\n",
        "  data[i] = 1\n",
        "  for w in query.split():\n",
        "\n",
        "    data[i] = ((lamda * df[i][w]) + ((1-lamda) * P_Mc_t['P_Mc(t)'][w])) * data[i]\n",
        "\n",
        "data "
      ],
      "metadata": {
        "colab": {
          "base_uri": "https://localhost:8080/"
        },
        "id": "hUS7ZLSq4sZx",
        "outputId": "222055eb-9606-4f25-d5f4-2da071287317"
      },
      "execution_count": 14,
      "outputs": [
        {
          "output_type": "execute_result",
          "data": {
            "text/plain": [
              "{'d1': 0.06806094182825485,\n",
              " 'd2': 0.10121883656509696,\n",
              " 'd3': 0.027008310249307478,\n",
              " 'd4': 0.027008310249307475}"
            ]
          },
          "metadata": {},
          "execution_count": 14
        }
      ]
    },
    {
      "cell_type": "code",
      "source": [
        "import operator\n",
        "sorted(data.items(), key=operator.itemgetter(1),reverse=True)"
      ],
      "metadata": {
        "colab": {
          "base_uri": "https://localhost:8080/"
        },
        "id": "NZA10VfG4vYd",
        "outputId": "31353328-13c0-4454-a767-38743e53e330"
      },
      "execution_count": 15,
      "outputs": [
        {
          "output_type": "execute_result",
          "data": {
            "text/plain": [
              "[('d2', 0.10121883656509696),\n",
              " ('d1', 0.06806094182825485),\n",
              " ('d3', 0.027008310249307478),\n",
              " ('d4', 0.027008310249307475)]"
            ]
          },
          "metadata": {},
          "execution_count": 15
        }
      ]
    },
    {
      "cell_type": "code",
      "source": [
        "def readData():\n",
        "    data = ['the weather forecast in Koblenz','next week weather forecast','the weather tomorrow','weather forecast Amsterdam',' the weather tomorrow in']\n",
        "    dat=[]\n",
        "    for i in range(len(data)):\n",
        "        for word in data[i].split():\n",
        "            dat.append(word)\n",
        "    print(dat)\n",
        "    return dat\n",
        "\n",
        "def createBigram(data):\n",
        "   listOfBigrams = []\n",
        "   bigramCounts = {}\n",
        "   unigramCounts = {}\n",
        "   for i in range(len(data)-1):\n",
        "      if i < len(data) - 1 and data[i+1].islower():\n",
        "\n",
        "         listOfBigrams.append((data[i], data[i + 1]))\n",
        "\n",
        "         if (data[i], data[i+1]) in bigramCounts:\n",
        "            bigramCounts[(data[i], data[i + 1])] += 1\n",
        "         else:\n",
        "            bigramCounts[(data[i], data[i + 1])] = 1\n",
        "\n",
        "      if data[i] in unigramCounts:\n",
        "         unigramCounts[data[i]] += 1\n",
        "      else:\n",
        "         unigramCounts[data[i]] = 1\n",
        "   return listOfBigrams, unigramCounts, bigramCounts\n",
        "\n",
        "\n",
        "def calcBigramProb(listOfBigrams, unigramCounts, bigramCounts):\n",
        "    listOfProb = {}\n",
        "    for bigram in listOfBigrams:\n",
        "        word1 = bigram[0]\n",
        "        word2 = bigram[1]\n",
        "        listOfProb[bigram] = (bigramCounts.get(bigram))/(unigramCounts.get(word1))\n",
        "    return listOfProb\n",
        "\n",
        "\n",
        "if __name__ == '__main__':\n",
        "    data = readData()\n",
        "    listOfBigrams, unigramCounts, bigramCounts = createBigram(data)\n",
        "\n",
        "    print(\"\\n All the possible Bigrams are \")\n",
        "    print(listOfBigrams)\n",
        "\n",
        "    print(\"\\n Bigrams along with their frequency \")\n",
        "    print(bigramCounts)\n",
        "\n",
        "    print(\"\\n Unigrams along with their frequency \")\n",
        "    print(unigramCounts)\n",
        "\n",
        "    bigramProb = calcBigramProb(listOfBigrams, unigramCounts, bigramCounts)\n",
        "\n",
        "    print(\"\\n Bigrams along with their probability \")\n",
        "    print(bigramProb)\n",
        "    inputList=\"the weather\"\n",
        "    splt=inputList.split()\n",
        "    outputProb1 = 1\n",
        "    bilist=[]\n",
        "    bigrm=[]\n",
        "\n",
        "    for i in range(len(splt) - 1):\n",
        "        if i < len(splt) - 1:\n",
        "\n",
        "            bilist.append((splt[i], splt[i + 1]))\n",
        "\n",
        "    print(\"\\n The bigrams in given sentence are \")\n",
        "    print(bilist)\n",
        "    for i in range(len(bilist)):\n",
        "        if bilist[i] in bigramProb:\n",
        "\n",
        "            outputProb1 *= bigramProb[bilist[i]]\n",
        "        else:\n",
        "\n",
        "            outputProb1 *= 0\n",
        "    print('\\n' + 'Probablility of sentence \\\"the weather\\\" = ' + str(outputProb1))"
      ],
      "metadata": {
        "colab": {
          "base_uri": "https://localhost:8080/"
        },
        "id": "ft5ILeld4x0i",
        "outputId": "2ea0b5c2-7a3b-48e1-e626-0c1f54269da3"
      },
      "execution_count": 16,
      "outputs": [
        {
          "output_type": "stream",
          "name": "stdout",
          "text": [
            "['the', 'weather', 'forecast', 'in', 'Koblenz', 'next', 'week', 'weather', 'forecast', 'the', 'weather', 'tomorrow', 'weather', 'forecast', 'Amsterdam', 'the', 'weather', 'tomorrow', 'in']\n",
            "\n",
            " All the possible Bigrams are \n",
            "[('the', 'weather'), ('weather', 'forecast'), ('forecast', 'in'), ('Koblenz', 'next'), ('next', 'week'), ('week', 'weather'), ('weather', 'forecast'), ('forecast', 'the'), ('the', 'weather'), ('weather', 'tomorrow'), ('tomorrow', 'weather'), ('weather', 'forecast'), ('Amsterdam', 'the'), ('the', 'weather'), ('weather', 'tomorrow'), ('tomorrow', 'in')]\n",
            "\n",
            " Bigrams along with their frequency \n",
            "{('the', 'weather'): 3, ('weather', 'forecast'): 3, ('forecast', 'in'): 1, ('Koblenz', 'next'): 1, ('next', 'week'): 1, ('week', 'weather'): 1, ('forecast', 'the'): 1, ('weather', 'tomorrow'): 2, ('tomorrow', 'weather'): 1, ('Amsterdam', 'the'): 1, ('tomorrow', 'in'): 1}\n",
            "\n",
            " Unigrams along with their frequency \n",
            "{'the': 3, 'weather': 5, 'forecast': 3, 'in': 1, 'Koblenz': 1, 'next': 1, 'week': 1, 'tomorrow': 2, 'Amsterdam': 1}\n",
            "\n",
            " Bigrams along with their probability \n",
            "{('the', 'weather'): 1.0, ('weather', 'forecast'): 0.6, ('forecast', 'in'): 0.3333333333333333, ('Koblenz', 'next'): 1.0, ('next', 'week'): 1.0, ('week', 'weather'): 1.0, ('forecast', 'the'): 0.3333333333333333, ('weather', 'tomorrow'): 0.4, ('tomorrow', 'weather'): 0.5, ('Amsterdam', 'the'): 1.0, ('tomorrow', 'in'): 0.5}\n",
            "\n",
            " The bigrams in given sentence are \n",
            "[('the', 'weather')]\n",
            "\n",
            "Probablility of sentence \"the weather\" = 1.0\n"
          ]
        }
      ]
    }
  ]
}