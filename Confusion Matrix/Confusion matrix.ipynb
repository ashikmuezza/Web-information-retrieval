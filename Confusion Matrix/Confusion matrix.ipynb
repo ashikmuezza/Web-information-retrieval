{
  "cells": [
    {
      "cell_type": "code",
      "execution_count": null,
      "id": "775c3ec4",
      "metadata": {
        "id": "775c3ec4"
      },
      "outputs": [],
      "source": [
        "#Importing libraries\n",
        "import pandas as pd\n",
        "import numpy as np"
      ]
    },
    {
      "cell_type": "code",
      "execution_count": null,
      "id": "a9c5996b",
      "metadata": {
        "id": "a9c5996b"
      },
      "outputs": [],
      "source": [
        "#Reading dataset\n",
        "df = pd.read_csv(\"Iris.csv\")"
      ]
    },
    {
      "cell_type": "code",
      "execution_count": null,
      "id": "0e7644f4",
      "metadata": {
        "id": "0e7644f4"
      },
      "outputs": [],
      "source": [
        "retrieved = df.loc[:,'retrieved'].to_numpy()\n",
        "gold = df.loc[:,'gold_standard'].to_numpy()\n",
        "matrix = list(zip(retrieved,gold))"
      ]
    },
    {
      "cell_type": "code",
      "execution_count": null,
      "id": "c3149e4f",
      "metadata": {
        "id": "c3149e4f"
      },
      "outputs": [],
      "source": [
        "#overall precision\n",
        "def precision(matrix):\n",
        "    count = 0\n",
        "    for i in range(len(matrix)):\n",
        "        if(matrix[i][0]==matrix[i][1]):\n",
        "            count+=1\n",
        "    precision = count/len([i[0] for i in matrix])\n",
        "    return precision"
      ]
    },
    {
      "cell_type": "code",
      "execution_count": null,
      "id": "943a52e3",
      "metadata": {
        "id": "943a52e3"
      },
      "outputs": [],
      "source": [
        "def recall(matrix):\n",
        "    count = 0\n",
        "    for i in range(len(matrix)):\n",
        "        if(matrix[i][0]==matrix[i][1]):\n",
        "            count+=1\n",
        "    recall = count/len([i[1] for i in matrix])\n",
        "    return recall"
      ]
    },
    {
      "cell_type": "code",
      "execution_count": null,
      "id": "59d7c559",
      "metadata": {
        "id": "59d7c559"
      },
      "outputs": [],
      "source": [
        "#precision by class\n",
        "def precision2(matrix):\n",
        "    p_s = 0\n",
        "    p_vir = 0\n",
        "    p_ver = 0\n",
        "    for i in range(len(matrix)):\n",
        "        if(matrix[i][0]==matrix[i][1]):\n",
        "            if(matrix[i][0]=='setosa'):\n",
        "                p_s+=1\n",
        "            if(matrix[i][0]=='virginica'):\n",
        "                p_vir+=1\n",
        "            if(matrix[i][0]=='versicolor'):\n",
        "                p_ver+=1\n",
        "            \n",
        "    pr_s = p_s/([i[0] for i in matrix].count('setosa'))\n",
        "    pr_vir = p_vir/([i[0] for i in matrix].count('virginica'))\n",
        "    pr_ver = p_ver/([i[0] for i in matrix].count('versicolor'))\n",
        "    \n",
        "    print(\"Precision is:\")\n",
        "    print(pr_s)\n",
        "    print(pr_vir)\n",
        "    print(pr_ver)"
      ]
    },
    {
      "cell_type": "code",
      "source": [
        "precision2(matrix)"
      ],
      "metadata": {
        "colab": {
          "base_uri": "https://localhost:8080/"
        },
        "id": "QTiM5pWeaJ9C",
        "outputId": "fecb18c6-be4e-43ca-a6e3-58a7f825183e"
      },
      "id": "QTiM5pWeaJ9C",
      "execution_count": null,
      "outputs": [
        {
          "output_type": "stream",
          "name": "stdout",
          "text": [
            "Precision is:\n",
            "1.0\n",
            "0.6363636363636364\n",
            "1.0\n"
          ]
        }
      ]
    },
    {
      "cell_type": "code",
      "execution_count": null,
      "id": "7bceb65e",
      "metadata": {
        "id": "7bceb65e"
      },
      "outputs": [],
      "source": [
        "def recall2(matrix):\n",
        "    r_s = 0\n",
        "    r_vir = 0\n",
        "    r_ver = 0\n",
        "    for i in range(len(matrix)):\n",
        "        if(matrix[i][0]==matrix[i][1]):\n",
        "            if(matrix[i][0]=='setosa'):\n",
        "                r_s+=1\n",
        "            if(matrix[i][0]=='virginica'):\n",
        "                r_vir+=1\n",
        "            if(matrix[i][0]=='versicolor'):\n",
        "                r_ver+=1\n",
        "            \n",
        "    re_s = r_s/([i[1] for i in matrix].count('setosa'))\n",
        "    re_vir = r_vir/([i[1] for i in matrix].count('virginica'))\n",
        "    re_ver = r_ver/([i[1] for i in matrix].count('versicolor'))\n",
        "    \n",
        "    print(\"Recall is:\")\n",
        "    print(re_s)\n",
        "    print(re_vir)\n",
        "    print(re_ver)"
      ]
    },
    {
      "cell_type": "code",
      "execution_count": null,
      "id": "405eaa08",
      "metadata": {
        "colab": {
          "base_uri": "https://localhost:8080/"
        },
        "id": "405eaa08",
        "outputId": "c98e11dc-c125-4e48-dc74-a40afd12bca5"
      },
      "outputs": [
        {
          "output_type": "stream",
          "name": "stdout",
          "text": [
            "Recall is:\n",
            "1.0\n",
            "1.0\n",
            "0.7894736842105263\n"
          ]
        }
      ],
      "source": [
        "recall2(matrix)"
      ]
    }
  ],
  "metadata": {
    "kernelspec": {
      "display_name": "Python 3",
      "language": "python",
      "name": "python3"
    },
    "language_info": {
      "codemirror_mode": {
        "name": "ipython",
        "version": 3
      },
      "file_extension": ".py",
      "mimetype": "text/x-python",
      "name": "python",
      "nbconvert_exporter": "python",
      "pygments_lexer": "ipython3",
      "version": "3.8.8"
    },
    "colab": {
      "provenance": []
    }
  },
  "nbformat": 4,
  "nbformat_minor": 5
}